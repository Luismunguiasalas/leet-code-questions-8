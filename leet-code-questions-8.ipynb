{
 "metadata": {
  "language_info": {
   "codemirror_mode": {
    "name": "ipython",
    "version": 3
   },
   "file_extension": ".py",
   "mimetype": "text/x-python",
   "name": "python",
   "nbconvert_exporter": "python",
   "pygments_lexer": "ipython3",
   "version": "3.8.5-final"
  },
  "orig_nbformat": 2,
  "kernelspec": {
   "name": "python3",
   "display_name": "Python 3",
   "language": "python"
  }
 },
 "nbformat": 4,
 "nbformat_minor": 2,
 "cells": [
  {
   "cell_type": "code",
   "execution_count": 9,
   "metadata": {},
   "outputs": [
    {
     "output_type": "execute_result",
     "data": {
      "text/plain": [
       "False"
      ]
     },
     "metadata": {},
     "execution_count": 9
    }
   ],
   "source": [
    "# 1502. Can Make Arithmetic Progression From Sequence\n",
    "# Given an array of numbers arr. A sequence of numbers is called an arithmetic progression if the difference between any two consecutive elements is the same.\n",
    "def canMakeArithmeticProgression(arr):\n",
    "    miN = 0\n",
    "    mxN = 0\n",
    "    mxD = 0\n",
    "    i = 1\n",
    "    while i < len(arr):\n",
    "        if i > 1:\n",
    "            if arr[i] < miN:\n",
    "                d = abs(miN - arr[i])\n",
    "                if d != mxD: return False\n",
    "            else:\n",
    "                d = abs(mxN - arr[i])\n",
    "                if d != mxD: return False\n",
    "        else:\n",
    "            mxD = arr[i] - arr[i-1]\n",
    "            miN = min(arr[i], arr[i-1])\n",
    "            mxN = max(arr[i], arr[i-1])\n",
    "        i += 1\n",
    "    return True\n",
    "    \n",
    "def canMakeArithmeticProgression(arr):\n",
    "    arr.sort()\n",
    "    d = arr[1] - arr[0]\n",
    "    i = 2\n",
    "    while i < len(arr):\n",
    "        if arr[i] - arr[i - 1] != d: return False\n",
    "        i += 1\n",
    "    return True\n",
    "\n",
    "# arr = [3,5,1]\n",
    "# arr = [1,2,4]\n",
    "canMakeArithmeticProgression(arr)"
   ]
  },
  {
   "cell_type": "code",
   "execution_count": 22,
   "metadata": {},
   "outputs": [
    {
     "output_type": "execute_result",
     "data": {
      "text/plain": [
       "[4, 5, 2, 7]"
      ]
     },
     "metadata": {},
     "execution_count": 22
    }
   ],
   "source": [
    "# 922. Sort Array By Parity II\n",
    "# Given an array A of non-negative integers, half of the integers in A are odd, and half of the integers are even.\n",
    "\n",
    "def sortArrayByParityII(A):\n",
    "    arr = [0] * len(A)\n",
    "    e = 0\n",
    "    o = 1\n",
    "    for n in A:\n",
    "        if n % 2:\n",
    "            arr[o] = n\n",
    "            o += 2\n",
    "        else:\n",
    "            arr[e] = n\n",
    "            e += 2\n",
    "    return arr\n",
    "\n",
    "\n",
    "input = [4,2,5,7]\n",
    "sortArrayByParityII(input)"
   ]
  },
  {
   "cell_type": "code",
   "execution_count": 36,
   "metadata": {},
   "outputs": [
    {
     "output_type": "execute_result",
     "data": {
      "text/plain": [
       "'ca'"
      ]
     },
     "metadata": {},
     "execution_count": 36
    }
   ],
   "source": [
    "# 1047. Remove All Adjacent Duplicates In String\n",
    "# Given a string S of lowercase letters, a duplicate removal consists of choosing two adjacent and equal letters, and removing them.\n",
    "\n",
    "def removeDuplicates(S):\n",
    "    i = 1\n",
    "    while i < len(S):\n",
    "        if S[i] == S[i-1]:\n",
    "            # S = S.replace(S[i] + S[i-1],\"\")\n",
    "            S = S[:i-1] + S[i+1:]\n",
    "            i = 1\n",
    "        else:\n",
    "            i += 1\n",
    "    print(S)\n",
    "\n",
    "# def removeDuplicates(S):\n",
    "#     track = {}\n",
    "#     for ltr in S:\n",
    "#         if ltr not in track:\n",
    "#             track[ltr] = 0\n",
    "#         track[ltr] += 1\n",
    "#         if track[ltr] == 2:\n",
    "#             del track[ltr]\n",
    "#     s = \"\".join([key for key,value in track.items() if value % 2])\n",
    "#     return s\n",
    "\n",
    "def removeDuplicates(S):\n",
    "    i = 1\n",
    "    while i < len(S):\n",
    "        if S[i] == S[i - 1]:\n",
    "            S = S[:i - 1] + S[i + 1:]\n",
    "            i = 1\n",
    "        else:\n",
    "            i += 1\n",
    "    return S\n",
    "input = \"abbaca\"\n",
    "removeDuplicates(input)\n"
   ]
  },
  {
   "cell_type": "code",
   "execution_count": 39,
   "metadata": {},
   "outputs": [
    {
     "output_type": "execute_result",
     "data": {
      "text/plain": [
       "['o', 'l', 'l', 'e', 'h']"
      ]
     },
     "metadata": {},
     "execution_count": 39
    }
   ],
   "source": [
    "# 344. Reverse String\n",
    "# Write a function that reverses a string. The input string is given as an array of characters char[].\n",
    "\n",
    "def reverseString(s):\n",
    "    return s[::-1]\n",
    "\n",
    "def reverseString(s):\n",
    "    l,r = 0, len(s)-1\n",
    "    while l < r:\n",
    "        s[l],s[r] = s[r],s[l]\n",
    "        l += 1\n",
    "        r -= 1\n",
    "    return s\n",
    "\n",
    "input = [\"h\",\"e\",\"l\",\"l\",\"o\"]\n",
    "reverseString(input)"
   ]
  },
  {
   "cell_type": "code",
   "execution_count": 65,
   "metadata": {},
   "outputs": [
    {
     "output_type": "error",
     "ename": "SyntaxError",
     "evalue": "cannot assign to list comprehension (<ipython-input-65-d9986fdd2079>, line 6)",
     "traceback": [
      "\u001b[0;36m  File \u001b[0;32m\"<ipython-input-65-d9986fdd2079>\"\u001b[0;36m, line \u001b[0;32m6\u001b[0m\n\u001b[0;31m    matrix = [x for x,y in matrix] = sorted([(i,sum(x)) for i,x in enumerate(matrix)], key=lambda x: x[1])[:k]\u001b[0m\n\u001b[0m             ^\u001b[0m\n\u001b[0;31mSyntaxError\u001b[0m\u001b[0;31m:\u001b[0m cannot assign to list comprehension\n"
     ]
    }
   ],
   "source": [
    "# 1337. The K Weakest Rows in a Matrix\n",
    "# Given a m * n matrix mat of ones (representing soldiers) and zeros (representing civilians), return the indexes of the k weakest rows in the matrix ordered from the weakest to the strongest.\n",
    "# A row i is weaker than row j, if the number of soldiers in row i is less than the number of soldiers in row j, or they have the same number of soldiers but i is less than j. Soldiers are always stand in the frontier of a row, that is, always ones may appear first and then zeros.\n",
    "\n",
    "def kWeakestRows(matrix, k):\n",
    "    matrix = sorted([(i,sum(x)) for i,x in enumerate(matrix)], key=lambda x: x[1])[:k]\n",
    "    return [x for x,y in matrix]\n",
    "\n",
    "mat = [[1,1,0,0,0],\n",
    " [1,1,1,1,0],\n",
    " [1,0,0,0,0],\n",
    " [1,1,0,0,0],\n",
    " [1,1,1,1,1]]\n",
    "k = 3\n",
    "mat = [[1,0,0,0],\n",
    " [1,1,1,1],\n",
    " [1,0,0,0],\n",
    " [1,0,0,0]]\n",
    "k = 2"
   ]
  }
 ]
}