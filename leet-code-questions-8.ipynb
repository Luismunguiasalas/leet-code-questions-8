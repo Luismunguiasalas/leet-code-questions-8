{
 "metadata": {
  "language_info": {
   "codemirror_mode": {
    "name": "ipython",
    "version": 3
   },
   "file_extension": ".py",
   "mimetype": "text/x-python",
   "name": "python",
   "nbconvert_exporter": "python",
   "pygments_lexer": "ipython3",
   "version": "3.8.5-final"
  },
  "orig_nbformat": 2,
  "kernelspec": {
   "name": "python3",
   "display_name": "Python 3",
   "language": "python"
  }
 },
 "nbformat": 4,
 "nbformat_minor": 2,
 "cells": [
  {
   "cell_type": "code",
   "execution_count": 9,
   "metadata": {},
   "outputs": [
    {
     "output_type": "execute_result",
     "data": {
      "text/plain": [
       "False"
      ]
     },
     "metadata": {},
     "execution_count": 9
    }
   ],
   "source": [
    "# 1502. Can Make Arithmetic Progression From Sequence\n",
    "# Given an array of numbers arr. A sequence of numbers is called an arithmetic progression if the difference between any two consecutive elements is the same.\n",
    "\n",
    "def canMakeArithmeticProgression(arr):\n",
    "    arr.sort()\n",
    "    d = arr[1] - arr[0]\n",
    "    i = 2\n",
    "    while i < len(arr):\n",
    "        if arr[i] - arr[i - 1] != d: return False\n",
    "        i += 1\n",
    "    return True\n",
    "\n",
    "# arr = [3,5,1]\n",
    "arr = [1,2,4]\n",
    "canMakeArithmeticProgression(arr)"
   ]
  },
  {
   "cell_type": "code",
   "execution_count": 10,
   "metadata": {},
   "outputs": [
    {
     "output_type": "execute_result",
     "data": {
      "text/plain": [
       "0"
      ]
     },
     "metadata": {},
     "execution_count": 10
    }
   ],
   "source": [
    "0 % 2"
   ]
  }
 ]
}